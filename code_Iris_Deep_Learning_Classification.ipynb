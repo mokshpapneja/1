{
  "cells": [
    {
      "cell_type": "markdown",
      "metadata": {
        "id": "view-in-github",
        "colab_type": "text"
      },
      "source": [
        "<a href=\"https://colab.research.google.com/github/mokshpapneja/1/blob/main/code_Iris_Deep_Learning_Classification.ipynb\" target=\"_parent\"><img src=\"https://colab.research.google.com/assets/colab-badge.svg\" alt=\"Open In Colab\"/></a>"
      ]
    },
    {
      "cell_type": "markdown",
      "metadata": {
        "id": "mPz5Crvv80Kw"
      },
      "source": [
        "# Deep Learning Example - Iris Problem\n",
        "\n",
        "This examples demonstrates the core deep learning model building concepts using the Keras library. The Iris flower dataset is used to build the model and perform classification tasks"
      ],
      "id": "mPz5Crvv80Kw"
    },
    {
      "cell_type": "markdown",
      "metadata": {
        "id": "O_ZUIpay80K4"
      },
      "source": [
        "### 5.1 Setup"
      ],
      "id": "O_ZUIpay80K4"
    },
    {
      "cell_type": "code",
      "execution_count": null,
      "metadata": {
        "colab": {
          "base_uri": "https://localhost:8080/"
        },
        "id": "_L_X09P080K5",
        "outputId": "f054c745-f5a9-4b2a-862c-67bb79831a9c"
      },
      "outputs": [
        {
          "output_type": "stream",
          "name": "stdout",
          "text": [
            "Looking in indexes: https://pypi.org/simple, https://us-python.pkg.dev/colab-wheels/public/simple/\n",
            "Requirement already satisfied: pandas in /usr/local/lib/python3.7/dist-packages (1.3.5)\n",
            "Requirement already satisfied: pytz>=2017.3 in /usr/local/lib/python3.7/dist-packages (from pandas) (2022.2.1)\n",
            "Requirement already satisfied: numpy>=1.17.3 in /usr/local/lib/python3.7/dist-packages (from pandas) (1.21.6)\n",
            "Requirement already satisfied: python-dateutil>=2.7.3 in /usr/local/lib/python3.7/dist-packages (from pandas) (2.8.2)\n",
            "Requirement already satisfied: six>=1.5 in /usr/local/lib/python3.7/dist-packages (from python-dateutil>=2.7.3->pandas) (1.15.0)\n",
            "Looking in indexes: https://pypi.org/simple, https://us-python.pkg.dev/colab-wheels/public/simple/\n",
            "Requirement already satisfied: tensorflow in /usr/local/lib/python3.7/dist-packages (2.8.2+zzzcolab20220719082949)\n",
            "Requirement already satisfied: keras-preprocessing>=1.1.1 in /usr/local/lib/python3.7/dist-packages (from tensorflow) (1.1.2)\n",
            "Requirement already satisfied: wrapt>=1.11.0 in /usr/local/lib/python3.7/dist-packages (from tensorflow) (1.14.1)\n",
            "Requirement already satisfied: grpcio<2.0,>=1.24.3 in /usr/local/lib/python3.7/dist-packages (from tensorflow) (1.48.1)\n",
            "Requirement already satisfied: typing-extensions>=3.6.6 in /usr/local/lib/python3.7/dist-packages (from tensorflow) (4.1.1)\n",
            "Requirement already satisfied: flatbuffers>=1.12 in /usr/local/lib/python3.7/dist-packages (from tensorflow) (2.0.7)\n",
            "Requirement already satisfied: tensorflow-io-gcs-filesystem>=0.23.1 in /usr/local/lib/python3.7/dist-packages (from tensorflow) (0.26.0)\n",
            "Requirement already satisfied: google-pasta>=0.1.1 in /usr/local/lib/python3.7/dist-packages (from tensorflow) (0.2.0)\n",
            "Requirement already satisfied: tensorflow-estimator<2.9,>=2.8 in /usr/local/lib/python3.7/dist-packages (from tensorflow) (2.8.0)\n",
            "Requirement already satisfied: numpy>=1.20 in /usr/local/lib/python3.7/dist-packages (from tensorflow) (1.21.6)\n",
            "Requirement already satisfied: opt-einsum>=2.3.2 in /usr/local/lib/python3.7/dist-packages (from tensorflow) (3.3.0)\n",
            "Requirement already satisfied: setuptools in /usr/local/lib/python3.7/dist-packages (from tensorflow) (57.4.0)\n",
            "Requirement already satisfied: astunparse>=1.6.0 in /usr/local/lib/python3.7/dist-packages (from tensorflow) (1.6.3)\n",
            "Requirement already satisfied: libclang>=9.0.1 in /usr/local/lib/python3.7/dist-packages (from tensorflow) (14.0.6)\n",
            "Requirement already satisfied: absl-py>=0.4.0 in /usr/local/lib/python3.7/dist-packages (from tensorflow) (1.2.0)\n",
            "Requirement already satisfied: termcolor>=1.1.0 in /usr/local/lib/python3.7/dist-packages (from tensorflow) (1.1.0)\n",
            "Requirement already satisfied: protobuf<3.20,>=3.9.2 in /usr/local/lib/python3.7/dist-packages (from tensorflow) (3.17.3)\n",
            "Requirement already satisfied: h5py>=2.9.0 in /usr/local/lib/python3.7/dist-packages (from tensorflow) (3.1.0)\n",
            "Requirement already satisfied: tensorboard<2.9,>=2.8 in /usr/local/lib/python3.7/dist-packages (from tensorflow) (2.8.0)\n",
            "Requirement already satisfied: six>=1.12.0 in /usr/local/lib/python3.7/dist-packages (from tensorflow) (1.15.0)\n",
            "Requirement already satisfied: keras<2.9,>=2.8.0rc0 in /usr/local/lib/python3.7/dist-packages (from tensorflow) (2.8.0)\n",
            "Requirement already satisfied: gast>=0.2.1 in /usr/local/lib/python3.7/dist-packages (from tensorflow) (0.5.3)\n",
            "Requirement already satisfied: wheel<1.0,>=0.23.0 in /usr/local/lib/python3.7/dist-packages (from astunparse>=1.6.0->tensorflow) (0.37.1)\n",
            "Requirement already satisfied: cached-property in /usr/local/lib/python3.7/dist-packages (from h5py>=2.9.0->tensorflow) (1.5.2)\n",
            "Requirement already satisfied: tensorboard-data-server<0.7.0,>=0.6.0 in /usr/local/lib/python3.7/dist-packages (from tensorboard<2.9,>=2.8->tensorflow) (0.6.1)\n",
            "Requirement already satisfied: markdown>=2.6.8 in /usr/local/lib/python3.7/dist-packages (from tensorboard<2.9,>=2.8->tensorflow) (3.4.1)\n",
            "Requirement already satisfied: google-auth-oauthlib<0.5,>=0.4.1 in /usr/local/lib/python3.7/dist-packages (from tensorboard<2.9,>=2.8->tensorflow) (0.4.6)\n",
            "Requirement already satisfied: werkzeug>=0.11.15 in /usr/local/lib/python3.7/dist-packages (from tensorboard<2.9,>=2.8->tensorflow) (1.0.1)\n",
            "Requirement already satisfied: tensorboard-plugin-wit>=1.6.0 in /usr/local/lib/python3.7/dist-packages (from tensorboard<2.9,>=2.8->tensorflow) (1.8.1)\n",
            "Requirement already satisfied: google-auth<3,>=1.6.3 in /usr/local/lib/python3.7/dist-packages (from tensorboard<2.9,>=2.8->tensorflow) (1.35.0)\n",
            "Requirement already satisfied: requests<3,>=2.21.0 in /usr/local/lib/python3.7/dist-packages (from tensorboard<2.9,>=2.8->tensorflow) (2.23.0)\n",
            "Requirement already satisfied: rsa<5,>=3.1.4 in /usr/local/lib/python3.7/dist-packages (from google-auth<3,>=1.6.3->tensorboard<2.9,>=2.8->tensorflow) (4.9)\n",
            "Requirement already satisfied: pyasn1-modules>=0.2.1 in /usr/local/lib/python3.7/dist-packages (from google-auth<3,>=1.6.3->tensorboard<2.9,>=2.8->tensorflow) (0.2.8)\n",
            "Requirement already satisfied: cachetools<5.0,>=2.0.0 in /usr/local/lib/python3.7/dist-packages (from google-auth<3,>=1.6.3->tensorboard<2.9,>=2.8->tensorflow) (4.2.4)\n",
            "Requirement already satisfied: requests-oauthlib>=0.7.0 in /usr/local/lib/python3.7/dist-packages (from google-auth-oauthlib<0.5,>=0.4.1->tensorboard<2.9,>=2.8->tensorflow) (1.3.1)\n",
            "Requirement already satisfied: importlib-metadata>=4.4 in /usr/local/lib/python3.7/dist-packages (from markdown>=2.6.8->tensorboard<2.9,>=2.8->tensorflow) (4.12.0)\n",
            "Requirement already satisfied: zipp>=0.5 in /usr/local/lib/python3.7/dist-packages (from importlib-metadata>=4.4->markdown>=2.6.8->tensorboard<2.9,>=2.8->tensorflow) (3.8.1)\n",
            "Requirement already satisfied: pyasn1<0.5.0,>=0.4.6 in /usr/local/lib/python3.7/dist-packages (from pyasn1-modules>=0.2.1->google-auth<3,>=1.6.3->tensorboard<2.9,>=2.8->tensorflow) (0.4.8)\n",
            "Requirement already satisfied: idna<3,>=2.5 in /usr/local/lib/python3.7/dist-packages (from requests<3,>=2.21.0->tensorboard<2.9,>=2.8->tensorflow) (2.10)\n",
            "Requirement already satisfied: urllib3!=1.25.0,!=1.25.1,<1.26,>=1.21.1 in /usr/local/lib/python3.7/dist-packages (from requests<3,>=2.21.0->tensorboard<2.9,>=2.8->tensorflow) (1.24.3)\n",
            "Requirement already satisfied: certifi>=2017.4.17 in /usr/local/lib/python3.7/dist-packages (from requests<3,>=2.21.0->tensorboard<2.9,>=2.8->tensorflow) (2022.6.15)\n",
            "Requirement already satisfied: chardet<4,>=3.0.2 in /usr/local/lib/python3.7/dist-packages (from requests<3,>=2.21.0->tensorboard<2.9,>=2.8->tensorflow) (3.0.4)\n",
            "Requirement already satisfied: oauthlib>=3.0.0 in /usr/local/lib/python3.7/dist-packages (from requests-oauthlib>=0.7.0->google-auth-oauthlib<0.5,>=0.4.1->tensorboard<2.9,>=2.8->tensorflow) (3.2.0)\n",
            "Looking in indexes: https://pypi.org/simple, https://us-python.pkg.dev/colab-wheels/public/simple/\n",
            "Collecting sklearn\n",
            "  Downloading sklearn-0.0.tar.gz (1.1 kB)\n",
            "Requirement already satisfied: scikit-learn in /usr/local/lib/python3.7/dist-packages (from sklearn) (1.0.2)\n",
            "Requirement already satisfied: numpy>=1.14.6 in /usr/local/lib/python3.7/dist-packages (from scikit-learn->sklearn) (1.21.6)\n",
            "Requirement already satisfied: threadpoolctl>=2.0.0 in /usr/local/lib/python3.7/dist-packages (from scikit-learn->sklearn) (3.1.0)\n",
            "Requirement already satisfied: scipy>=1.1.0 in /usr/local/lib/python3.7/dist-packages (from scikit-learn->sklearn) (1.7.3)\n",
            "Requirement already satisfied: joblib>=0.11 in /usr/local/lib/python3.7/dist-packages (from scikit-learn->sklearn) (1.1.0)\n",
            "Building wheels for collected packages: sklearn\n",
            "  Building wheel for sklearn (setup.py) ... \u001b[?25l\u001b[?25hdone\n",
            "  Created wheel for sklearn: filename=sklearn-0.0-py2.py3-none-any.whl size=1310 sha256=2ead99b18910f11ccd0c804737facfdfef0f467d0ce4cb5a790970d0b7e42359\n",
            "  Stored in directory: /root/.cache/pip/wheels/46/ef/c3/157e41f5ee1372d1be90b09f74f82b10e391eaacca8f22d33e\n",
            "Successfully built sklearn\n",
            "Installing collected packages: sklearn\n",
            "Successfully installed sklearn-0.0\n",
            "Looking in indexes: https://pypi.org/simple, https://us-python.pkg.dev/colab-wheels/public/simple/\n",
            "Requirement already satisfied: matplotlib in /usr/local/lib/python3.7/dist-packages (3.2.2)\n",
            "Requirement already satisfied: cycler>=0.10 in /usr/local/lib/python3.7/dist-packages (from matplotlib) (0.11.0)\n",
            "Requirement already satisfied: kiwisolver>=1.0.1 in /usr/local/lib/python3.7/dist-packages (from matplotlib) (1.4.4)\n",
            "Requirement already satisfied: pyparsing!=2.0.4,!=2.1.2,!=2.1.6,>=2.0.1 in /usr/local/lib/python3.7/dist-packages (from matplotlib) (3.0.9)\n",
            "Requirement already satisfied: python-dateutil>=2.1 in /usr/local/lib/python3.7/dist-packages (from matplotlib) (2.8.2)\n",
            "Requirement already satisfied: numpy>=1.11 in /usr/local/lib/python3.7/dist-packages (from matplotlib) (1.21.6)\n",
            "Requirement already satisfied: typing-extensions in /usr/local/lib/python3.7/dist-packages (from kiwisolver>=1.0.1->matplotlib) (4.1.1)\n",
            "Requirement already satisfied: six>=1.5 in /usr/local/lib/python3.7/dist-packages (from python-dateutil>=2.1->matplotlib) (1.15.0)\n"
          ]
        }
      ],
      "source": [
        "#Install related libraries for the course.\n",
        "#This is a common requirement for all other examples too\n",
        "\n",
        "\n",
        "\n",
        "!pip install pandas\n",
        "!pip install tensorflow\n",
        "!pip install sklearn\n",
        "!pip install matplotlib"
      ],
      "id": "_L_X09P080K5"
    },
    {
      "cell_type": "markdown",
      "metadata": {
        "id": "SLuaCnyH80K8"
      },
      "source": [
        "### 4.2. Prepare Input Data for Deep Learning\n",
        "\n",
        "Perform the following steps for preparing data\n",
        "\n",
        "1. Load data into a pandas dataframe\n",
        "2. Convert the dataframe to a numpy array\n",
        "3. Scale the feature dataset\n",
        "4. Use one-hot-encoding for the target variable\n",
        "5. Split into training and test datasets\n"
      ],
      "id": "SLuaCnyH80K8"
    },
    {
      "cell_type": "code",
      "execution_count": null,
      "metadata": {
        "colab": {
          "base_uri": "https://localhost:8080/"
        },
        "id": "WEzY2LDf80K8",
        "outputId": "948684f6-18e7-468c-ebad-d81d9275fefb"
      },
      "outputs": [
        {
          "output_type": "stream",
          "name": "stdout",
          "text": [
            "\n",
            "Loaded Data :\n",
            "------------------------------------\n",
            "   Sepal.Length  Sepal.Width  Petal.Length  Petal.Width Species\n",
            "0           5.1          3.5           1.4          0.2  setosa\n",
            "1           4.9          3.0           1.4          0.2  setosa\n",
            "2           4.7          3.2           1.3          0.2  setosa\n",
            "3           4.6          3.1           1.5          0.2  setosa\n",
            "4           5.0          3.6           1.4          0.2  setosa\n",
            "\n",
            "Features before scaling :\n",
            "------------------------------------\n",
            "[[5.1 3.5 1.4 0.2]\n",
            " [4.9 3.  1.4 0.2]\n",
            " [4.7 3.2 1.3 0.2]\n",
            " [4.6 3.1 1.5 0.2]\n",
            " [5.  3.6 1.4 0.2]]\n",
            "\n",
            "Target before scaling :\n",
            "------------------------------------\n",
            "[0. 0. 0. 0. 0.]\n",
            "\n",
            "Features after scaling :\n",
            "------------------------------------\n",
            "[[-0.90068117  1.01900435 -1.34022653 -1.3154443 ]\n",
            " [-1.14301691 -0.13197948 -1.34022653 -1.3154443 ]\n",
            " [-1.38535265  0.32841405 -1.39706395 -1.3154443 ]\n",
            " [-1.50652052  0.09821729 -1.2833891  -1.3154443 ]\n",
            " [-1.02184904  1.24920112 -1.34022653 -1.3154443 ]]\n",
            "\n",
            "Target after one-hot-encoding :\n",
            "------------------------------------\n",
            "[[1. 0. 0.]\n",
            " [1. 0. 0.]\n",
            " [1. 0. 0.]\n",
            " [1. 0. 0.]\n",
            " [1. 0. 0.]]\n",
            "\n",
            "Train Test Dimensions:\n",
            "------------------------------------\n",
            "(135, 4) (135, 3) (15, 4) (15, 3)\n"
          ]
        }
      ],
      "source": [
        "import pandas as pd\n",
        "import os\n",
        "import tensorflow as tf\n",
        "import numpy as np\n",
        "from sklearn.model_selection import train_test_split\n",
        "from sklearn.preprocessing import StandardScaler\n",
        "\n",
        "#Load Data and review content\n",
        "iris_data = pd.read_csv(\"https://raw.githubusercontent.com/ibtissammakdoun/Introduction-au-deep-learning/main/iris.csv\")\n",
        "# Reads csv file from the pandas framework\n",
        "\n",
        "print(\"\\nLoaded Data :\\n------------------------------------\")\n",
        "print(iris_data.head()) #Prints the column heads\n",
        "\n",
        "#Use a Label encoder to convert String to numeric values\n",
        "#for the target variable\n",
        "\n",
        "from sklearn import preprocessing\n",
        "label_encoder = preprocessing.LabelEncoder()  # This is done to define the target: Type of flower into a numeric representation\n",
        "iris_data['Species'] = label_encoder.fit_transform(\n",
        "                                iris_data['Species'])\n",
        "\n",
        "#Convert input to numpy array\n",
        "np_iris = iris_data.to_numpy() # Numpy array is preferred input format for keras\n",
        "\n",
        "#Separate feature and target variables\n",
        "X_data = np_iris[:,0:4] #Takes all data for the first 4 columns: 0,1,2,3 --> Sepal lenth,width and Petal length,width\n",
        "Y_data=np_iris[:,4]#Takes all data and their last column indicating their species that we have to predict\n",
        "\n",
        "#Prints data onto console --> For first 5 values\n",
        "print(\"\\nFeatures before scaling :\\n------------------------------------\")\n",
        "print(X_data[:5,:])\n",
        "print(\"\\nTarget before scaling :\\n------------------------------------\")\n",
        "print(Y_data[:5])\n",
        "\n",
        "#Create a scaler model that is fit on the input data.\n",
        "scaler = StandardScaler().fit(X_data) # Standardizes the input data\n",
        "\n",
        "#Scale the numeric feature variables\n",
        "X_data = scaler.transform(X_data)\n",
        "\n",
        "#Convert target variable as a one-hot-encoding array\n",
        "Y_data = tf.keras.utils.to_categorical(Y_data,3)#Setosa--> 0--> 100 ; 1--> 010 ; 2--> 001 as model target is a multiclass we use one-hot encoding\n",
        "\n",
        "print(\"\\nFeatures after scaling :\\n------------------------------------\")\n",
        "print(X_data[:5,:])\n",
        "print(\"\\nTarget after one-hot-encoding :\\n------------------------------------\")\n",
        "print(Y_data[:5,:])\n",
        "\n",
        "#Split training and test data\n",
        "X_train,X_test,Y_train,Y_test = train_test_split( X_data, Y_data, test_size=0.10)#Test data is 10% and training data is 90% of the whole dataset\n",
        "\n",
        "print(\"\\nTrain Test Dimensions:\\n------------------------------------\")\n",
        "print(X_train.shape, Y_train.shape, X_test.shape, Y_test.shape)"
      ],
      "id": "WEzY2LDf80K8"
    },
    {
      "cell_type": "markdown",
      "metadata": {
        "id": "OsRhY2aI80K_"
      },
      "source": [
        "### 4.3. Creating a Model\n",
        "\n",
        "Creating a model in Keras requires defining the following\n",
        "\n",
        "1. Number of hidden layers\n",
        "2. Number of nodes in each layer\n",
        "3. Activation functions\n",
        "4. Loss Function & Accuracy measurements"
      ],
      "id": "OsRhY2aI80K_"
    },
    {
      "cell_type": "code",
      "execution_count": null,
      "metadata": {
        "colab": {
          "base_uri": "https://localhost:8080/"
        },
        "id": "PinYm6ui80LA",
        "outputId": "1d932054-e262-4b71-9c3f-5125a836ad54"
      },
      "outputs": [
        {
          "output_type": "stream",
          "name": "stdout",
          "text": [
            "Model: \"sequential_1\"\n",
            "_________________________________________________________________\n",
            " Layer (type)                Output Shape              Param #   \n",
            "=================================================================\n",
            " Hidden-Layer-1 (Dense)      (None, 128)               640       \n",
            "                                                                 \n",
            " Hidden-Layer-2 (Dense)      (None, 128)               16512     \n",
            "                                                                 \n",
            " Output-Layer (Dense)        (None, 3)                 387       \n",
            "                                                                 \n",
            "=================================================================\n",
            "Total params: 17,539\n",
            "Trainable params: 17,539\n",
            "Non-trainable params: 0\n",
            "_________________________________________________________________\n"
          ]
        }
      ],
      "source": [
        "\n",
        "from tensorflow import keras\n",
        "\n",
        "#Number of classes in the target variable\n",
        "NB_CLASSES=3 # Represents the no. of target classes\n",
        "\n",
        "#Create a sequencial model in Keras\n",
        "model = tf.keras.models.Sequential() # A sequential model in keras will have a sequence of layers and hidden layers\n",
        "\n",
        "#Add the first hidden layer\n",
        "model.add(keras.layers.Dense(128,                    #Number of nodes\n",
        "                             input_shape=(4,),       #Number of input variables--> Sepal and Petal Height and width\n",
        "                              name='Hidden-Layer-1', #Logical name\n",
        "                              activation='relu'))    #activation function--> Relu for hidden layer 1\n",
        "\n",
        "#Add a second hidden layer\n",
        "model.add(keras.layers.Dense(128,\n",
        "                              name='Hidden-Layer-2',\n",
        "                              activation='relu'))\n",
        "\n",
        "#Add an output layer with softmax activation\n",
        "model.add(keras.layers.Dense(NB_CLASSES,# Output nodes == No. of classes\n",
        "                             name='Output-Layer',\n",
        "                             activation='softmax')) # Softmax activation function will just selec max probability among the 3 that coe at the node:- (0.7,0.2,0.9)-->0.9\n",
        "\n",
        "#Compile the model with loss & metrics\n",
        "model.compile(loss='categorical_crossentropy', #Need categorical error function\n",
        "              metrics=['accuracy'])\n",
        "\n",
        "#Print the model meta-data\n",
        "model.summary()\n"
      ],
      "id": "PinYm6ui80LA"
    },
    {
      "cell_type": "markdown",
      "metadata": {
        "id": "cUYr_alD80LB"
      },
      "source": [
        "### 4.4. Training and evaluating the Model\n",
        "\n",
        "Training the model involves defining various training models and then perform\n",
        "forward and back propagation."
      ],
      "id": "cUYr_alD80LB"
    },
    {
      "cell_type": "code",
      "execution_count": null,
      "metadata": {
        "colab": {
          "base_uri": "https://localhost:8080/",
          "height": 1000
        },
        "id": "Z6GvV_OT80LC",
        "outputId": "617030da-fb7b-45c0-eb73-b55766f49646"
      },
      "outputs": [
        {
          "output_type": "stream",
          "name": "stdout",
          "text": [
            "\n",
            "Training Progress:\n",
            "------------------------------------\n",
            "Epoch 1/20\n",
            "7/7 [==============================] - 1s 28ms/step - loss: 0.9488 - accuracy: 0.6389 - val_loss: 0.7745 - val_accuracy: 0.7037\n",
            "Epoch 2/20\n",
            "7/7 [==============================] - 0s 6ms/step - loss: 0.6131 - accuracy: 0.8519 - val_loss: 0.6119 - val_accuracy: 0.7037\n",
            "Epoch 3/20\n",
            "7/7 [==============================] - 0s 6ms/step - loss: 0.4583 - accuracy: 0.8704 - val_loss: 0.5261 - val_accuracy: 0.7407\n",
            "Epoch 4/20\n",
            "7/7 [==============================] - 0s 6ms/step - loss: 0.3769 - accuracy: 0.8704 - val_loss: 0.4744 - val_accuracy: 0.7778\n",
            "Epoch 5/20\n",
            "7/7 [==============================] - 0s 6ms/step - loss: 0.3262 - accuracy: 0.8796 - val_loss: 0.4373 - val_accuracy: 0.7778\n",
            "Epoch 6/20\n",
            "7/7 [==============================] - 0s 6ms/step - loss: 0.2960 - accuracy: 0.8519 - val_loss: 0.4086 - val_accuracy: 0.8148\n",
            "Epoch 7/20\n",
            "7/7 [==============================] - 0s 6ms/step - loss: 0.2616 - accuracy: 0.8796 - val_loss: 0.3812 - val_accuracy: 0.8148\n",
            "Epoch 8/20\n",
            "7/7 [==============================] - 0s 5ms/step - loss: 0.2418 - accuracy: 0.8889 - val_loss: 0.3558 - val_accuracy: 0.8148\n",
            "Epoch 9/20\n",
            "7/7 [==============================] - 0s 5ms/step - loss: 0.2199 - accuracy: 0.8889 - val_loss: 0.3271 - val_accuracy: 0.8148\n",
            "Epoch 10/20\n",
            "7/7 [==============================] - 0s 6ms/step - loss: 0.2042 - accuracy: 0.9167 - val_loss: 0.3007 - val_accuracy: 0.8889\n",
            "Epoch 11/20\n",
            "7/7 [==============================] - 0s 6ms/step - loss: 0.1844 - accuracy: 0.9444 - val_loss: 0.2938 - val_accuracy: 0.8148\n",
            "Epoch 12/20\n",
            "7/7 [==============================] - 0s 6ms/step - loss: 0.1727 - accuracy: 0.9352 - val_loss: 0.2885 - val_accuracy: 0.8148\n",
            "Epoch 13/20\n",
            "7/7 [==============================] - 0s 6ms/step - loss: 0.1623 - accuracy: 0.9352 - val_loss: 0.2440 - val_accuracy: 0.9259\n",
            "Epoch 14/20\n",
            "7/7 [==============================] - 0s 6ms/step - loss: 0.1503 - accuracy: 0.9444 - val_loss: 0.2322 - val_accuracy: 0.9259\n",
            "Epoch 15/20\n",
            "7/7 [==============================] - 0s 6ms/step - loss: 0.1407 - accuracy: 0.9444 - val_loss: 0.2424 - val_accuracy: 0.8889\n",
            "Epoch 16/20\n",
            "7/7 [==============================] - 0s 6ms/step - loss: 0.1276 - accuracy: 0.9630 - val_loss: 0.1951 - val_accuracy: 0.9630\n",
            "Epoch 17/20\n",
            "7/7 [==============================] - 0s 6ms/step - loss: 0.1188 - accuracy: 0.9537 - val_loss: 0.2099 - val_accuracy: 0.9630\n",
            "Epoch 18/20\n",
            "7/7 [==============================] - 0s 6ms/step - loss: 0.1170 - accuracy: 0.9444 - val_loss: 0.1736 - val_accuracy: 0.9630\n",
            "Epoch 19/20\n",
            "7/7 [==============================] - 0s 7ms/step - loss: 0.1169 - accuracy: 0.9537 - val_loss: 0.1889 - val_accuracy: 0.9630\n",
            "Epoch 20/20\n",
            "7/7 [==============================] - 0s 8ms/step - loss: 0.1073 - accuracy: 0.9444 - val_loss: 0.1693 - val_accuracy: 0.9630\n",
            "\n",
            "Accuracy during Training :\n",
            "------------------------------------\n"
          ]
        },
        {
          "output_type": "display_data",
          "data": {
            "text/plain": [
              "<Figure size 576x360 with 1 Axes>"
            ],
            "image/png": "[encoded data removed]"
          },
          "metadata": {
            "needs_background": "light"
          }
        },
        {
          "output_type": "stream",
          "name": "stdout",
          "text": [
            "\n",
            "Evaluation against Test Dataset :\n",
            "------------------------------------\n",
            "1/1 [==============================] - 0s 18ms/step - loss: 0.1981 - accuracy: 0.9333\n"
          ]
        },
        {
          "output_type": "execute_result",
          "data": {
            "text/plain": [
              "[0.19805912673473358, 0.9333333373069763]"
            ]
          },
          "metadata": {},
          "execution_count": 7
        }
      ],
      "source": [
        "#Make it verbose so we can see the progress\n",
        "VERBOSE=1# Print progress during training\n",
        "\n",
        "#Setup Hyper Parameters for training\n",
        "\n",
        "#Set Batch size\n",
        "BATCH_SIZE=16 # Batch size given for faster computations\n",
        "#Set number of epochs\n",
        "EPOCHS=20\n",
        "#Set validation split. 20% of the training data will be used for validation\n",
        "#after each epoch\n",
        "VALIDATION_SPLIT=0.2\n",
        "\n",
        "print(\"\\nTraining Progress:\\n------------------------------------\")\n",
        "\n",
        "#Fit the model. This will perform the entire training cycle, including\n",
        "#forward propagation, loss computation, backward propagation and gradient descent.\n",
        "#Execute for the specified batch sizes and epoch\n",
        "#Perform validation after each epoch\n",
        "history=model.fit(X_train,\n",
        "          Y_train,\n",
        "          batch_size=BATCH_SIZE,\n",
        "          epochs=EPOCHS,\n",
        "          verbose=VERBOSE,\n",
        "          validation_split=VALIDATION_SPLIT)#Trains the model\n",
        "\n",
        "print(\"\\nAccuracy during Training :\\n------------------------------------\")\n",
        "import matplotlib.pyplot as plt\n",
        "\n",
        "#Plot accuracy of the model after each epoch.\n",
        "pd.DataFrame(history.history)[\"accuracy\"].plot(figsize=(8, 5))\n",
        "plt.title(\"Accuracy improvements with Epoch\")\n",
        "plt.show()\n",
        "\n",
        "#Evaluate the model against the test dataset and print results\n",
        "print(\"\\nEvaluation against Test Dataset :\\n------------------------------------\")\n",
        "model.evaluate(X_test,Y_test)"
      ],
      "id": "Z6GvV_OT80LC"
    },
    {
      "cell_type": "markdown",
      "metadata": {
        "id": "kFSLJc0i80LD"
      },
      "source": [
        "### 4.5. Saving and Loading Models\n",
        "\n",
        "The training and inference environments are usually separate. Models need to be saved after they are validated. They are then loaded into the inference environments for actual prediction"
      ],
      "id": "kFSLJc0i80LD"
    },
    {
      "cell_type": "code",
      "execution_count": null,
      "metadata": {
        "colab": {
          "base_uri": "https://localhost:8080/"
        },
        "id": "c4yIAoGK80LD",
        "outputId": "2d4915f4-b17a-4545-8075-9eca307d8526"
      },
      "outputs": [
        {
          "output_type": "stream",
          "name": "stderr",
          "text": [
            "WARNING:absl:Function `_wrapped_model` contains input name(s) Hidden-Layer-1_input with unsupported characters which will be renamed to hidden_layer_1_input in the SavedModel.\n"
          ]
        },
        {
          "output_type": "stream",
          "name": "stdout",
          "text": [
            "Model: \"sequential_4\"\n",
            "_________________________________________________________________\n",
            " Layer (type)                Output Shape              Param #   \n",
            "=================================================================\n",
            " Hidden-Layer-1 (Dense)      (None, 2)                 10        \n",
            "                                                                 \n",
            " Hidden-Layer-2 (Dense)      (None, 2)                 6         \n",
            "                                                                 \n",
            " Output-Layer (Dense)        (None, 3)                 9         \n",
            "                                                                 \n",
            "=================================================================\n",
            "Total params: 25\n",
            "Trainable params: 25\n",
            "Non-trainable params: 0\n",
            "_________________________________________________________________\n"
          ]
        }
      ],
      "source": [
        "#Saving a model\n",
        "\n",
        "model.save(\"iris_save\")\n",
        "\n",
        "#Loading a Model\n",
        "loaded_model = keras.models.load_model(\"iris_save\")\n",
        "\n",
        "#Print Model Summary\n",
        "loaded_model.summary()"
      ],
      "id": "c4yIAoGK80LD"
    },
    {
      "cell_type": "markdown",
      "metadata": {
        "id": "zNXds6Bx80LE"
      },
      "source": [
        "### 4.6. Predictions with Deep Learning Models"
      ],
      "id": "zNXds6Bx80LE"
    },
    {
      "cell_type": "code",
      "execution_count": null,
      "metadata": {
        "colab": {
          "base_uri": "https://localhost:8080/"
        },
        "id": "CtXr93HE80LE",
        "outputId": "7fed6738-113a-4b8f-863b-801b1b4471ba"
      },
      "outputs": [
        {
          "output_type": "stream",
          "name": "stdout",
          "text": [
            "Raw Prediction Output (Probabilities) : [[0.28652048 0.31853855 0.39494097]]\n",
            "Prediction is  ['virginica']\n"
          ]
        }
      ],
      "source": [
        "#Raw prediction data\n",
        "prediction_input = [[6.6, 3. , 4.4, 1.4]]\n",
        "\n",
        "#Scale prediction data with the same scaling model\n",
        "scaled_input = scaler.transform(prediction_input)\n",
        "\n",
        "#Get raw prediction probabilities\n",
        "raw_prediction = model.predict(scaled_input)\n",
        "print(\"Raw Prediction Output (Probabilities) :\" , raw_prediction)\n",
        "\n",
        "#Find prediction\n",
        "prediction = np.argmax(raw_prediction)\n",
        "print(\"Prediction is \", label_encoder.inverse_transform([prediction]))\n"
      ],
      "id": "CtXr93HE80LE"
    },
    {
      "cell_type": "code",
      "execution_count": null,
      "metadata": {
        "colab": {
          "base_uri": "https://localhost:8080/"
        },
        "id": "X8NYH5qq80LF",
        "outputId": "ec09ea82-01c3-4715-d641-eaf439c01acc"
      },
      "outputs": [
        {
          "output_type": "stream",
          "name": "stdout",
          "text": [
            "[array([[ 0.8359249 ,  0.8190445 ],\n",
            "       [-0.5539482 , -0.9854561 ],\n",
            "       [-0.60933626, -0.40825883],\n",
            "       [ 0.0203304 , -0.5808915 ]], dtype=float32), array([-0.04449978, -0.03751288], dtype=float32)]\n",
            "[array([[ 0.07239337,  0.83858216],\n",
            "       [ 0.38906744, -0.97707057]], dtype=float32), array([-0.00182586, -0.04882694], dtype=float32)]\n",
            "[array([[-0.84117925, -0.33386418,  0.6198642 ],\n",
            "       [ 0.5622749 ,  0.80120355,  0.4471838 ]], dtype=float32), array([ 0.02371891,  0.00255361, -0.02139328], dtype=float32)]\n"
          ]
        }
      ],
      "source": [
        "for layer in loaded_model.layers: print(layer.get_weights())\n"
      ],
      "id": "X8NYH5qq80LF"
    },
    {
      "cell_type": "code",
      "source": [
        "\n",
        "\n",
        "#Number of classes in the target variable\n",
        "NB_CLASSES=3 # Represents the no. of target classes\n",
        "\n",
        "#Create a sequencial model in Keras\n",
        "model1 = tf.keras.models.Sequential() # A sequential model in keras will have a sequence of layers and hidden layers\n",
        "\n",
        "#Add the first hidden layer\n",
        "model1.add(keras.layers.Dense(2,                    #Number of nodes\n",
        "                             input_shape=(4,),       #Number of input variables--> Sepal and Petal Height and width\n",
        "                              name='Hidden-Layer-1', #Logical name\n",
        "                              activation='relu'))    #activation function--> Relu for hidden layer 1\n",
        "\n",
        "#Add a second hidden layer\n",
        "model1.add(keras.layers.Dense(2,\n",
        "                              name='Hidden-Layer-2',\n",
        "                              activation='relu'))\n",
        "\n",
        "#Add an output layer with softmax activation\n",
        "model1.add(keras.layers.Dense(NB_CLASSES,# Output nodes == No. of classes\n",
        "                             name='Output-Layer',\n",
        "                             activation='softmax')) # Softmax activation function will just selec max probability among the 3 that coe at the node:- (0.7,0.2,0.9)-->0.9\n",
        "\n",
        "#Compile the model with loss & metrics\n",
        "model1.compile(loss='categorical_crossentropy', #Need categorical error function\n",
        "              metrics=['accuracy'])\n",
        "\n",
        "#Print the model meta-data\n",
        "model1.summary()\n",
        "print(model.layers)"
      ],
      "metadata": {
        "colab": {
          "base_uri": "https://localhost:8080/"
        },
        "id": "t9mKZWtUGAal",
        "outputId": "f52c1705-63e2-404a-e4d1-c4a6a5a2daeb"
      },
      "id": "t9mKZWtUGAal",
      "execution_count": null,
      "outputs": [
        {
          "output_type": "stream",
          "name": "stdout",
          "text": [
            "Model: \"sequential_6\"\n",
            "_________________________________________________________________\n",
            " Layer (type)                Output Shape              Param #   \n",
            "=================================================================\n",
            " Hidden-Layer-1 (Dense)      (None, 2)                 10        \n",
            "                                                                 \n",
            " Hidden-Layer-2 (Dense)      (None, 2)                 6         \n",
            "                                                                 \n",
            " Output-Layer (Dense)        (None, 3)                 9         \n",
            "                                                                 \n",
            "=================================================================\n",
            "Total params: 25\n",
            "Trainable params: 25\n",
            "Non-trainable params: 0\n",
            "_________________________________________________________________\n",
            "[<keras.layers.core.dense.Dense object at 0x7f0be84c0710>, <keras.layers.core.dense.Dense object at 0x7f0be84c0d10>, <keras.layers.core.dense.Dense object at 0x7f0be84a3b90>]\n"
          ]
        }
      ]
    },
    {
      "cell_type": "code",
      "source": [
        "# Setting new weights and biases\n",
        "i=0\n",
        "for layer in loaded_model.layers:\n",
        "  a = layer.get_weights()\n",
        "  model1.layers[i].set_weights(a)\n",
        "  i+=1\n",
        "  print(layer.get_weights())\n",
        "\n",
        "print(\"-------------------------------------------------------------------------------\")\n",
        "\n",
        "for layer1 in model1.layers:\n",
        "  print(layer1.get_weights())"
      ],
      "metadata": {
        "colab": {
          "base_uri": "https://localhost:8080/"
        },
        "id": "QnYfomzZGpia",
        "outputId": "c63847c1-07ef-4d60-97ba-638e7abc626d"
      },
      "id": "QnYfomzZGpia",
      "execution_count": null,
      "outputs": [
        {
          "output_type": "stream",
          "name": "stdout",
          "text": [
            "[array([[ 0.8359249 ,  0.8190445 ],\n",
            "       [-0.5539482 , -0.9854561 ],\n",
            "       [-0.60933626, -0.40825883],\n",
            "       [ 0.0203304 , -0.5808915 ]], dtype=float32), array([-0.04449978, -0.03751288], dtype=float32)]\n",
            "[array([[ 0.07239337,  0.83858216],\n",
            "       [ 0.38906744, -0.97707057]], dtype=float32), array([-0.00182586, -0.04882694], dtype=float32)]\n",
            "[array([[-0.84117925, -0.33386418,  0.6198642 ],\n",
            "       [ 0.5622749 ,  0.80120355,  0.4471838 ]], dtype=float32), array([ 0.02371891,  0.00255361, -0.02139328], dtype=float32)]\n",
            "-------------------------------------------------------------------------------\n",
            "[array([[ 0.8359249 ,  0.8190445 ],\n",
            "       [-0.5539482 , -0.9854561 ],\n",
            "       [-0.60933626, -0.40825883],\n",
            "       [ 0.0203304 , -0.5808915 ]], dtype=float32), array([-0.04449978, -0.03751288], dtype=float32)]\n",
            "[array([[ 0.07239337,  0.83858216],\n",
            "       [ 0.38906744, -0.97707057]], dtype=float32), array([-0.00182586, -0.04882694], dtype=float32)]\n",
            "[array([[-0.84117925, -0.33386418,  0.6198642 ],\n",
            "       [ 0.5622749 ,  0.80120355,  0.4471838 ]], dtype=float32), array([ 0.02371891,  0.00255361, -0.02139328], dtype=float32)]\n"
          ]
        }
      ]
    },
    {
      "cell_type": "code",
      "source": [
        "#Raw prediction data\n",
        "prediction_input = [[6.6, 3. , 4.4, 1.4]]\n",
        "\n",
        "#Scale prediction data with the same scaling model\n",
        "scaled_input = scaler.transform(prediction_input)\n",
        "raw_prediction = model1.predict(scaled_input)\n",
        "print(\"Raw Prediction Output (Probabilities) :\" , raw_prediction)\n",
        "\n",
        "#Find prediction\n",
        "prediction = np.argmax(raw_prediction)\n",
        "print(\"Prediction is \", label_encoder.inverse_transform([prediction]))"
      ],
      "metadata": {
        "colab": {
          "base_uri": "https://localhost:8080/"
        },
        "id": "0wcK_VytKHJ5",
        "outputId": "a93d2a44-3d81-499c-c78d-14fa306913ce"
      },
      "id": "0wcK_VytKHJ5",
      "execution_count": null,
      "outputs": [
        {
          "output_type": "stream",
          "name": "stdout",
          "text": [
            "Raw Prediction Output (Probabilities) : [[0.28652048 0.31853855 0.39494097]]\n",
            "Prediction is  ['virginica']\n"
          ]
        }
      ]
    },
    {
      "cell_type": "code",
      "source": [],
      "metadata": {
        "id": "LM4eGRXGNQY3"
      },
      "id": "LM4eGRXGNQY3",
      "execution_count": null,
      "outputs": []
    }
  ],
  "metadata": {
    "kernelspec": {
      "display_name": "Python 3",
      "language": "python",
      "name": "python3"
    },
    "language_info": {
      "codemirror_mode": {
        "name": "ipython",
        "version": 3
      },
      "file_extension": ".py",
      "mimetype": "text/x-python",
      "name": "python",
      "nbconvert_exporter": "python",
      "pygments_lexer": "ipython3",
      "version": "3.8.5"
    },
    "colab": {
      "provenance": [],
      "include_colab_link": true
    }
  },
  "nbformat": 4,
  "nbformat_minor": 5
}